{
 "cells": [
  {
   "cell_type": "code",
   "execution_count": 7,
   "metadata": {},
   "outputs": [],
   "source": [
    "#fizzbuzz\n",
    "def fizzbuzz(n):\n",
    "    if n<=1:\n",
    "        return -1\n",
    "    a=list(range(1,n+1))\n",
    "    for i in range(1,n+1):\n",
    "        if i%3==0 and i%5==0:\n",
    "            a[i-1]='FizzBuzz'\n",
    "        elif i%3==0:\n",
    "            a[i-1]='Fizz'\n",
    "        elif i%5==0:\n",
    "            a[i-1]='Buzz'\n",
    "        else:\n",
    "            continue\n",
    "    return a\n",
    "def fizzbuzz_1(n):\n",
    "    re=[]\n",
    "    for i in range(1,n+1):\n",
    "        if i%3==0 and i%5==0:\n",
    "            re.append('FizzBuzz')\n",
    "        elif i%3==0:\n",
    "            re.append('Fizz')\n",
    "        elif i%5==0:\n",
    "            re.append('Buzz')\n",
    "        else:\n",
    "            re.append(i)\n",
    "    return re\n",
    "def fizzbuzz_2(n):\n",
    "    re=[]\n",
    "    for i in range(1,n+1):\n",
    "        s=(i%3==0)*'Fizz'+(i%5==0)*'Buzz'\n",
    "        if s!='':\n",
    "            re.append(s)\n",
    "        else:\n",
    "            re.append(i)\n",
    "    return re\n",
    "        "
   ]
  },
  {
   "cell_type": "code",
   "execution_count": 8,
   "metadata": {},
   "outputs": [
    {
     "data": {
      "text/plain": [
       "[1, 2, 'Fizz', 4, 'Buzz', 'Fizz', 7, 8, 'Fizz', 'Buzz']"
      ]
     },
     "execution_count": 8,
     "metadata": {},
     "output_type": "execute_result"
    }
   ],
   "source": [
    "fizzbuzz_2(10)"
   ]
  },
  {
   "cell_type": "code",
   "execution_count": 57,
   "metadata": {},
   "outputs": [],
   "source": [
    "def del_reocc(s):\n",
    "    dic={}\n",
    "    s=list(s)\n",
    "    i,count=0,0\n",
    "    while i < len(s) and len(s)>1:\n",
    "        print(len(s))\n",
    "        if s[i] not in dic:\n",
    "            dic[s[i]]=1\n",
    "        else:\n",
    "            count+=1\n",
    "            del s[i]\n",
    "        i=i+1-count\n",
    "    return ''.join(s)"
   ]
  },
  {
   "cell_type": "code",
   "execution_count": 58,
   "metadata": {},
   "outputs": [
    {
     "name": "stdout",
     "output_type": "stream",
     "text": [
      "3\n",
      "3\n",
      "2\n"
     ]
    },
    {
     "data": {
      "text/plain": [
       "'m'"
      ]
     },
     "execution_count": 58,
     "metadata": {},
     "output_type": "execute_result"
    }
   ],
   "source": [
    "del_reocc('mmm')"
   ]
  },
  {
   "cell_type": "code",
   "execution_count": 47,
   "metadata": {},
   "outputs": [
    {
     "name": "stdout",
     "output_type": "stream",
     "text": [
      "0 10\n",
      "0 9\n",
      "0 8\n",
      "0 7\n",
      "0 6\n",
      "0 5\n",
      "0 4\n",
      "0 3\n",
      "0 2\n",
      "0 1\n"
     ]
    }
   ],
   "source": [
    "i,j=0,10\n",
    "while i<j:\n",
    "    print(i,j)\n",
    "    j-=1"
   ]
  },
  {
   "cell_type": "code",
   "execution_count": 61,
   "metadata": {},
   "outputs": [],
   "source": [
    "def remove_duplicate_query(s):\n",
    "    s_start,s_end=s.split('?')[0],s.split('?')[1]\n",
    "    s_end=s_end.split('&')\n",
    "    dic={}\n",
    "    for j in range(len(s_end)):\n",
    "        ele=s_end[j]\n",
    "        for i in range(len(ele)):\n",
    "            if ele[i]=='=':\n",
    "                break\n",
    "        ele_temp=ele[:i]\n",
    "        if ele_temp not in dic:\n",
    "            dic[ele_temp]=1\n",
    "        else:\n",
    "            del s_end[j]\n",
    "    ss_end='&'.join(s_end)\n",
    "    return str(s_start)+ss_end\n",
    "            \n",
    "                    "
   ]
  },
  {
   "cell_type": "code",
   "execution_count": 62,
   "metadata": {},
   "outputs": [
    {
     "data": {
      "text/plain": [
       "'www.saadbenn.coma=1&b=2'"
      ]
     },
     "execution_count": 62,
     "metadata": {},
     "output_type": "execute_result"
    }
   ],
   "source": [
    "remove_duplicate_query('www.saadbenn.com?a=1&b=2&a=2')"
   ]
  },
  {
   "cell_type": "code",
   "execution_count": 83,
   "metadata": {},
   "outputs": [],
   "source": [
    "def validate_coordinate(s):\n",
    "    try:\n",
    "        s1,s2=s.split(',')[0],s.split(',')[1]\n",
    "    except:\n",
    "        return False\n",
    "    try:\n",
    "        s1=float(s1)\n",
    "        s2=float(s2)\n",
    "        s1=abs(s1)\n",
    "        if s1>=0 and s1<=90 and s2>=0 and s2<=180:\n",
    "            return True\n",
    "        else:\n",
    "            return False\n",
    "    except:\n",
    "        return False\n",
    "            "
   ]
  },
  {
   "cell_type": "code",
   "execution_count": 84,
   "metadata": {},
   "outputs": [
    {
     "data": {
      "text/plain": [
       "True"
      ]
     },
     "execution_count": 84,
     "metadata": {},
     "output_type": "execute_result"
    }
   ],
   "source": [
    "validate_coordinate(\"-12.34567, 34.22334\")"
   ]
  },
  {
   "cell_type": "code",
   "execution_count": 88,
   "metadata": {},
   "outputs": [],
   "source": [
    "def domain_name(s):\n",
    "    name=s.split('.com')[0]\n",
    "    for j in range(len(name)-1,-1,-1):\n",
    "        if name[j].isalnum():\n",
    "            continue\n",
    "        else:\n",
    "            return name[j+1:]"
   ]
  },
  {
   "cell_type": "code",
   "execution_count": 90,
   "metadata": {},
   "outputs": [
    {
     "data": {
      "text/plain": [
       "'github'"
      ]
     },
     "execution_count": 90,
     "metadata": {},
     "output_type": "execute_result"
    }
   ],
   "source": [
    "domain_name(\"http://www.github.com/SaadBenn\")"
   ]
  },
  {
   "cell_type": "code",
   "execution_count": 91,
   "metadata": {},
   "outputs": [],
   "source": [
    "from collections import deque\n",
    "def merge_str(s,part1,part2):\n",
    "    i=0\n",
    "    part1,part2=deque(part1),deque(part2)\n",
    "    while i <len(s):\n",
    "        if len(part1)>0 and s[i]==part1[0]:\n",
    "            part1.popleft()\n",
    "        elif len(part2)>0 and s[i]==part2[0]:\n",
    "            part2.popleft()\n",
    "        else:\n",
    "            return False\n",
    "        i+=1\n",
    "    return True"
   ]
  },
  {
   "cell_type": "code",
   "execution_count": 93,
   "metadata": {},
   "outputs": [
    {
     "data": {
      "text/plain": [
       "False"
      ]
     },
     "execution_count": 93,
     "metadata": {},
     "output_type": "execute_result"
    }
   ],
   "source": [
    "merge_str(\"codewars\",\"cdw\",\"oear\")"
   ]
  },
  {
   "cell_type": "code",
   "execution_count": null,
   "metadata": {},
   "outputs": [],
   "source": [
    "def match(words_arr,symbols):\n",
    "    pass\n",
    "    "
   ]
  },
  {
   "cell_type": "code",
   "execution_count": null,
   "metadata": {},
   "outputs": [],
   "source": [
    "def decode_str(s,output):\n",
    "    s=[s[i] for i in range(len(s))]\n",
    "    num=s[0]\n",
    "    j=2\n",
    "    single=False\n",
    "    new=0\n",
    "    while j<len(s):\n",
    "        if j=='[':\n",
    "            new=j\n",
    "            break\n",
    "        elif j==']':\n",
    "            single=True\n",
    "    if single is True:      \n",
    "        for i in range(1,len(s)):\n",
    "            if s[i]=='[':\n",
    "                start=i\n",
    "            elif s[i]==']':\n",
    "                end=i\n",
    "            else:\n",
    "                continue\n",
    "        output+=num*s[start+1:end]\n",
    "        return decode_str(s[end+1:],output)\n",
    "    else:\n",
    "        return decode_str(s[new-1:],output)\n",
    "    \n",
    "    \n",
    "                        \n",
    "                    \n",
    "                    \n",
    "                \n",
    "    "
   ]
  },
  {
   "cell_type": "code",
   "execution_count": 103,
   "metadata": {},
   "outputs": [],
   "source": [
    "s='3[a]2[bc]3[a2[c]]ef'"
   ]
  },
  {
   "cell_type": "code",
   "execution_count": 115,
   "metadata": {},
   "outputs": [],
   "source": [
    "def mid_func(s,output=[]):\n",
    "    if s[i]=='[':\n",
    "        for j in range(i+1,len(s)):\n",
    "            if s[j]==']':\n",
    "                output.append(s[i+1:j])\n",
    "                break\n",
    "            elif s[j]=='[':\n",
    "                    return mid_func(s[j:],output)\n",
    "    else:\n",
    "        output+=s[i]\n",
    "    return output"
   ]
  },
  {
   "cell_type": "code",
   "execution_count": null,
   "metadata": {},
   "outputs": [],
   "source": [
    "i=0\n",
    "re=[]\n",
    "while i<len(a):\n",
    "    \n",
    "    "
   ]
  },
  {
   "cell_type": "code",
   "execution_count": 116,
   "metadata": {},
   "outputs": [
    {
     "ename": "IndexError",
     "evalue": "list index out of range",
     "output_type": "error",
     "traceback": [
      "\u001b[1;31m---------------------------------------------------------------------------\u001b[0m",
      "\u001b[1;31mIndexError\u001b[0m                                Traceback (most recent call last)",
      "\u001b[1;32m<ipython-input-116-6e5f441fd2da>\u001b[0m in \u001b[0;36m<module>\u001b[1;34m()\u001b[0m\n\u001b[1;32m----> 1\u001b[1;33m \u001b[0mmid_func\u001b[0m\u001b[1;33m(\u001b[0m\u001b[0ma\u001b[0m\u001b[1;33m)\u001b[0m\u001b[1;33m\u001b[0m\u001b[0m\n\u001b[0m",
      "\u001b[1;32m<ipython-input-115-f1b3b08d97c0>\u001b[0m in \u001b[0;36mmid_func\u001b[1;34m(s, output)\u001b[0m\n\u001b[0;32m      1\u001b[0m \u001b[1;32mdef\u001b[0m \u001b[0mmid_func\u001b[0m\u001b[1;33m(\u001b[0m\u001b[0ms\u001b[0m\u001b[1;33m,\u001b[0m\u001b[0moutput\u001b[0m\u001b[1;33m=\u001b[0m\u001b[1;33m[\u001b[0m\u001b[1;33m]\u001b[0m\u001b[1;33m)\u001b[0m\u001b[1;33m:\u001b[0m\u001b[1;33m\u001b[0m\u001b[0m\n\u001b[1;32m----> 2\u001b[1;33m     \u001b[1;32mif\u001b[0m \u001b[0ms\u001b[0m\u001b[1;33m[\u001b[0m\u001b[0mi\u001b[0m\u001b[1;33m]\u001b[0m\u001b[1;33m==\u001b[0m\u001b[1;34m'['\u001b[0m\u001b[1;33m:\u001b[0m\u001b[1;33m\u001b[0m\u001b[0m\n\u001b[0m\u001b[0;32m      3\u001b[0m         \u001b[1;32mfor\u001b[0m \u001b[0mj\u001b[0m \u001b[1;32min\u001b[0m \u001b[0mrange\u001b[0m\u001b[1;33m(\u001b[0m\u001b[0mi\u001b[0m\u001b[1;33m+\u001b[0m\u001b[1;36m1\u001b[0m\u001b[1;33m,\u001b[0m\u001b[0mlen\u001b[0m\u001b[1;33m(\u001b[0m\u001b[0ms\u001b[0m\u001b[1;33m)\u001b[0m\u001b[1;33m)\u001b[0m\u001b[1;33m:\u001b[0m\u001b[1;33m\u001b[0m\u001b[0m\n\u001b[0;32m      4\u001b[0m             \u001b[1;32mif\u001b[0m \u001b[0ms\u001b[0m\u001b[1;33m[\u001b[0m\u001b[0mj\u001b[0m\u001b[1;33m]\u001b[0m\u001b[1;33m==\u001b[0m\u001b[1;34m']'\u001b[0m\u001b[1;33m:\u001b[0m\u001b[1;33m\u001b[0m\u001b[0m\n\u001b[0;32m      5\u001b[0m                 \u001b[0moutput\u001b[0m\u001b[1;33m.\u001b[0m\u001b[0mappend\u001b[0m\u001b[1;33m(\u001b[0m\u001b[0ms\u001b[0m\u001b[1;33m[\u001b[0m\u001b[0mi\u001b[0m\u001b[1;33m+\u001b[0m\u001b[1;36m1\u001b[0m\u001b[1;33m:\u001b[0m\u001b[0mj\u001b[0m\u001b[1;33m]\u001b[0m\u001b[1;33m)\u001b[0m\u001b[1;33m\u001b[0m\u001b[0m\n",
      "\u001b[1;31mIndexError\u001b[0m: list index out of range"
     ]
    }
   ],
   "source": [
    "mid_func(a)"
   ]
  },
  {
   "cell_type": "code",
   "execution_count": 110,
   "metadata": {},
   "outputs": [
    {
     "data": {
      "text/plain": [
       "['3',\n",
       " '[',\n",
       " 'a',\n",
       " ']',\n",
       " '2',\n",
       " '[',\n",
       " 'b',\n",
       " 'c',\n",
       " ']',\n",
       " '3',\n",
       " '[',\n",
       " 'a',\n",
       " '2',\n",
       " '[',\n",
       " 'c',\n",
       " ']',\n",
       " ']',\n",
       " 'e',\n",
       " 'f']"
      ]
     },
     "execution_count": 110,
     "metadata": {},
     "output_type": "execute_result"
    }
   ],
   "source": [
    "a=[s[i] for i in range(len(s))]\n",
    "a"
   ]
  }
 ],
 "metadata": {
  "kernelspec": {
   "display_name": "Python 3",
   "language": "python",
   "name": "python3"
  },
  "language_info": {
   "codemirror_mode": {
    "name": "ipython",
    "version": 3
   },
   "file_extension": ".py",
   "mimetype": "text/x-python",
   "name": "python",
   "nbconvert_exporter": "python",
   "pygments_lexer": "ipython3",
   "version": "3.6.4"
  }
 },
 "nbformat": 4,
 "nbformat_minor": 2
}
