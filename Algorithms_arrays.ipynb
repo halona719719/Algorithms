{
 "cells": [
  {
   "cell_type": "code",
   "execution_count": 2,
   "metadata": {},
   "outputs": [],
   "source": [
    "#Algorithms\n",
    "#1.delete n th in array\n",
    "import collections"
   ]
  },
  {
   "cell_type": "code",
   "execution_count": 8,
   "metadata": {},
   "outputs": [],
   "source": [
    "#O(n)\n",
    "def del_n(arr,N):\n",
    "    #dic={}\n",
    "    dic=collections.defaultdict(int)\n",
    "    re=[]\n",
    "    for i in arr:\n",
    "        if i in dic:\n",
    "            if dic[i]==N:\n",
    "                continue\n",
    "            else:\n",
    "                dic[i]+=1\n",
    "                re.append(i)\n",
    "        else:\n",
    "            dic[i]=1\n",
    "            re.append(i)\n",
    "    return re\n",
    "#O(n^2)\n",
    "# def del_n(arr,N):\n",
    "#     re=[]\n",
    "#     for i in arr:\n",
    "#         if re.count(i)<N:\n",
    "#             re.append(i)\n",
    "#         else:\n",
    "#             continue\n",
    "#     return re\n",
    "    \n",
    "        "
   ]
  },
  {
   "cell_type": "code",
   "execution_count": 9,
   "metadata": {},
   "outputs": [
    {
     "data": {
      "text/plain": [
       "[1, 2, 3, 1, 2, 3]"
      ]
     },
     "execution_count": 9,
     "metadata": {},
     "output_type": "execute_result"
    }
   ],
   "source": [
    "del_n([1,2,3,1,2,1,2,3],2)"
   ]
  },
  {
   "cell_type": "code",
   "execution_count": 1,
   "metadata": {},
   "outputs": [],
   "source": [
    "#2.flatten\n",
    "from collections import Iterable"
   ]
  },
  {
   "cell_type": "code",
   "execution_count": 26,
   "metadata": {},
   "outputs": [],
   "source": [
    "def flatten(input_arr,output_arr=None):\n",
    "    if output_arr is None:\n",
    "        output_arr=[]\n",
    "    for ele in input_arr:\n",
    "        if isinstance(ele,Iterable):\n",
    "            flatten(ele,output_arr)\n",
    "        else:\n",
    "            output_arr.append(ele)\n",
    "    return output_arr\n",
    "def flatten_i(arr):\n",
    "    for ele in arr:\n",
    "        if isinstance(arr,Iterable):\n",
    "            yield from flatten_i(ele)\n",
    "        else:\n",
    "            yield ele\n",
    "        \n",
    "class flatten_s(object):\n",
    "    def __init__(self,arr=[]):\n",
    "        self.arr=arr\n",
    "    def flatten(self,input_arr):\n",
    "        for ele in input_arr:\n",
    "            if isinstance(ele,Iterable):\n",
    "                self.flatten(ele)\n",
    "            else:\n",
    "                self.arr.append(ele)\n",
    "        return self.arr\n",
    "    "
   ]
  },
  {
   "cell_type": "code",
   "execution_count": 27,
   "metadata": {},
   "outputs": [
    {
     "data": {
      "text/plain": [
       "[1, 2, 3, 4]"
      ]
     },
     "execution_count": 27,
     "metadata": {},
     "output_type": "execute_result"
    }
   ],
   "source": [
    "sol=flatten_s()\n",
    "sol.flatten([[[1],[2]],[[3],[4]]])"
   ]
  },
  {
   "cell_type": "code",
   "execution_count": 14,
   "metadata": {},
   "outputs": [
    {
     "data": {
      "text/plain": [
       "[1, 2, 3, 4]"
      ]
     },
     "execution_count": 14,
     "metadata": {},
     "output_type": "execute_result"
    }
   ],
   "source": [
    "flatten([[[1],[2]],[[3],[4]]])"
   ]
  },
  {
   "cell_type": "code",
   "execution_count": 26,
   "metadata": {},
   "outputs": [],
   "source": [
    "#3.garage\n",
    "def garage(initial,final):\n",
    "    steps=0\n",
    "    sequences=[]\n",
    "    new=initial\n",
    "    while new!=final:\n",
    "        zero = new.index(0)\n",
    "        curr_car=new.index(final[zero])\n",
    "        if final[zero]!=0:\n",
    "            new[zero],new[curr_car]=final[zero],0\n",
    "        else:\n",
    "            for i in range(len(new)):\n",
    "                if new[i]!=final[i]:\n",
    "                    new[i],new[zero]=0,new[i]\n",
    "                    break\n",
    "        sequences.append(new)\n",
    "        steps+=1\n",
    "    return steps,sequences\n",
    "\n",
    "        \n",
    "        "
   ]
  },
  {
   "cell_type": "code",
   "execution_count": 28,
   "metadata": {},
   "outputs": [
    {
     "data": {
      "text/plain": [
       "(4, [[0, 3, 2, 1, 4], [0, 3, 2, 1, 4], [0, 3, 2, 1, 4], [0, 3, 2, 1, 4]])"
      ]
     },
     "execution_count": 28,
     "metadata": {},
     "output_type": "execute_result"
    }
   ],
   "source": [
    "garage([1,2,3,0,4],[0,3,2,1,4])"
   ]
  },
  {
   "cell_type": "code",
   "execution_count": 32,
   "metadata": {},
   "outputs": [],
   "source": [
    "#4.circle\n",
    "def remove_from_circle(arr,skip):\n",
    "    res=[]\n",
    "    i=skip-1\n",
    "    while i < len(arr):\n",
    "        res.append(arr[i])\n",
    "        del arr[i]\n",
    "        i+=skip\n",
    "        i-=1\n",
    "        if i>=len(arr) and len(arr)>1:\n",
    "            i=i-len(arr)\n",
    "        if len(arr)==1:\n",
    "            res.append(arr[0])\n",
    "    return res"
   ]
  },
  {
   "cell_type": "code",
   "execution_count": 33,
   "metadata": {},
   "outputs": [
    {
     "data": {
      "text/plain": [
       "[3, 6, 9, 4, 8, 5, 2, 7, 1]"
      ]
     },
     "execution_count": 33,
     "metadata": {},
     "output_type": "execute_result"
    }
   ],
   "source": [
    "remove_from_circle([1,2,3,4,5,6,7,8,9],3)"
   ]
  },
  {
   "cell_type": "code",
   "execution_count": 40,
   "metadata": {},
   "outputs": [],
   "source": [
    "#5.limit\n",
    "def limit(arr,mimm=None,maxx=None):\n",
    "    res=[]\n",
    "    if mimm==None and maxx==None:\n",
    "        return arr\n",
    "    elif mimm==None:\n",
    "        for ele in arr:\n",
    "            if ele<=maxx:\n",
    "                res.append(ele)\n",
    "        return res\n",
    "    elif maxx==None:\n",
    "        for ele in arr:\n",
    "            if ele>=mimm:\n",
    "                res.append(ele)\n",
    "        return res\n",
    "    else:\n",
    "        for ele in arr:\n",
    "            if ele>=mimm and ele<=maxx:\n",
    "                res.append(ele)\n",
    "        return res"
   ]
  },
  {
   "cell_type": "code",
   "execution_count": 41,
   "metadata": {},
   "outputs": [
    {
     "data": {
      "text/plain": [
       "[1, 2, 3, 4]"
      ]
     },
     "execution_count": 41,
     "metadata": {},
     "output_type": "execute_result"
    }
   ],
   "source": [
    "limit([1,2,3,4,5,6,7],None,4)"
   ]
  },
  {
   "cell_type": "code",
   "execution_count": 63,
   "metadata": {},
   "outputs": [],
   "source": [
    "#6.longest nonrepeat\n",
    "def lengnonrepeat(string):\n",
    "    sub=string[0]\n",
    "    ans=0\n",
    "    for i in string:\n",
    "        if i not in sub:\n",
    "            sub+=i\n",
    "            ans=len(sub)\n",
    "        else:\n",
    "            loc=list(sub).index(i)\n",
    "            sub=sub[loc:]+i\n",
    "            ans=max(len(sub),ans)\n",
    "    return ans\n",
    "    "
   ]
  },
  {
   "cell_type": "code",
   "execution_count": 64,
   "metadata": {},
   "outputs": [
    {
     "data": {
      "text/plain": [
       "8"
      ]
     },
     "execution_count": 64,
     "metadata": {},
     "output_type": "execute_result"
    }
   ],
   "source": [
    "lengnonrepeat('sshdjdocmmsbsicjdoc')"
   ]
  },
  {
   "cell_type": "code",
   "execution_count": 78,
   "metadata": {},
   "outputs": [],
   "source": [
    "#7.replace o with 1\n",
    "def rep(arr):\n",
    "    zeros=[]\n",
    "    for i,ele in enumerate(arr):\n",
    "        if ele==0:\n",
    "            zeros.append(i)\n",
    "    if zeros==[]:\n",
    "        return -1\n",
    "    if len(zeros)==1:\n",
    "        return zeros[0]\n",
    "    maxx=zeros[1]-1\n",
    "    ans=zeros[0]\n",
    "    print(maxx)\n",
    "    for i in range(1,len(zeros)-1):\n",
    "        l=zeros[i+1]-zeros[i-1]-1\n",
    "        if l>maxx:\n",
    "            maxx=l\n",
    "            ans=zeros[i]\n",
    "    l_last=len(arr)-zeros[-2]-2\n",
    "    print(l_last)\n",
    "    if l_last>maxx:\n",
    "        ans=zeros[-1]\n",
    "    return ans\n",
    "        \n",
    "        \n",
    "    "
   ]
  },
  {
   "cell_type": "code",
   "execution_count": 79,
   "metadata": {},
   "outputs": [
    {
     "name": "stdout",
     "output_type": "stream",
     "text": [
      "8\n",
      "8\n"
     ]
    },
    {
     "data": {
      "text/plain": [
       "3"
      ]
     },
     "execution_count": 79,
     "metadata": {},
     "output_type": "execute_result"
    }
   ],
   "source": [
    "rep([1, 1, 1, 0, 1, 1, 1, 1, 1, 0, 1, 1, 1])"
   ]
  },
  {
   "cell_type": "code",
   "execution_count": 90,
   "metadata": {},
   "outputs": [],
   "source": [
    "#8.missing ranges\n",
    "def miss(arr,hi,lo):\n",
    "    res=[]\n",
    "    arr=sorted(arr)\n",
    "    if lo>=arr[-1] or hi<=arr[0]:\n",
    "        return []\n",
    "    if lo<arr[0]+1:\n",
    "        res.append([lo,arr[0]-1])\n",
    "    if hi>arr[-1]+1:\n",
    "        res.append([arr[-1]+1,hi])\n",
    "    if lo<=arr[0]:\n",
    "        lo=arr[0]\n",
    "    if hi<arr[-1]:\n",
    "        arr=[x for x in arr if x<=hi]        \n",
    "    for i in arr:\n",
    "        if i<=lo:\n",
    "            continue\n",
    "        if i==lo+1:\n",
    "            lo=i\n",
    "        if i>lo+1:\n",
    "            res.append([lo+1,i-1])\n",
    "            lo=i\n",
    "    return res\n"
   ]
  },
  {
   "cell_type": "code",
   "execution_count": 91,
   "metadata": {},
   "outputs": [
    {
     "data": {
      "text/plain": [
       "[[1, 2], [6, 10], [4, 4]]"
      ]
     },
     "execution_count": 91,
     "metadata": {},
     "output_type": "execute_result"
    }
   ],
   "source": [
    "miss([3,5],10,1)"
   ]
  },
  {
   "cell_type": "code",
   "execution_count": 93,
   "metadata": {},
   "outputs": [],
   "source": [
    "#9.plus_one\n",
    "def plus_one(arr):\n",
    "    if arr[-1]!=9:\n",
    "        arr[-1]=arr[-1]+1\n",
    "        return arr\n",
    "    else:\n",
    "        arr[-1]=0\n",
    "        i=len(arr)-2\n",
    "        while i>=0:\n",
    "            if arr[i]==9:\n",
    "                arr[i]=0\n",
    "                i-=1\n",
    "            else:\n",
    "                arr[i]=arr[i]+1\n",
    "                break\n",
    "        if arr[0]==0:\n",
    "            arr=[1]+arr\n",
    "    return arr\n",
    "        "
   ]
  },
  {
   "cell_type": "code",
   "execution_count": 96,
   "metadata": {},
   "outputs": [
    {
     "data": {
      "text/plain": [
       "[9, 9, 9, 0]"
      ]
     },
     "execution_count": 96,
     "metadata": {},
     "output_type": "execute_result"
    }
   ],
   "source": [
    "plus_one([9,9,8,9])"
   ]
  },
  {
   "cell_type": "code",
   "execution_count": 103,
   "metadata": {},
   "outputs": [],
   "source": [
    "#10.rotate\n",
    "def rotate_1(arr,step):\n",
    "    step=step%len(arr)\n",
    "    if step==0:\n",
    "        return arr\n",
    "    res=[0]*len(arr)\n",
    "    for i in range(len(arr)):\n",
    "        if i+step<len(arr):\n",
    "            res[i+step]=arr[i]\n",
    "        else:\n",
    "            res[i+step-len(arr)]=arr[i]\n",
    "    return res\n",
    "def rotate_2(arr,step):\n",
    "    step=step%len(arr)\n",
    "    if step==0:\n",
    "        return arr\n",
    "    i=len(arr)-step\n",
    "    return arr[i:]+arr[:i]\n",
    "def rotate_3(arr,step):\n",
    "    "
   ]
  },
  {
   "cell_type": "code",
   "execution_count": 105,
   "metadata": {},
   "outputs": [
    {
     "data": {
      "text/plain": [
       "[7, 8, 9, 1, 2, 3, 4, 5, 6]"
      ]
     },
     "execution_count": 105,
     "metadata": {},
     "output_type": "execute_result"
    }
   ],
   "source": [
    "a=[1,2,3,4,5,6,7,8,9]\n",
    "rotate_1(a,3)\n",
    "#rotate_2(a,3)"
   ]
  },
  {
   "cell_type": "code",
   "execution_count": 112,
   "metadata": {},
   "outputs": [],
   "source": [
    "#11.sum of range\n",
    "def sum_range(arr):\n",
    "    if arr is None:\n",
    "        return []\n",
    "    res=[]\n",
    "    first=arr[0]\n",
    "    second=arr[0]\n",
    "    for i in range(1,len(arr)):\n",
    "        if arr[i]==arr[i-1]+1:\n",
    "            second=arr[i]\n",
    "        else:\n",
    "            res.append([first,second])\n",
    "            first=arr[i]\n",
    "            second=arr[i]\n",
    "    res.append([first,second])\n",
    "    return res"
   ]
  },
  {
   "cell_type": "code",
   "execution_count": 114,
   "metadata": {},
   "outputs": [
    {
     "data": {
      "text/plain": [
       "[[1, 3], [5, 6], [8, 10], [14, 14]]"
      ]
     },
     "execution_count": 114,
     "metadata": {},
     "output_type": "execute_result"
    }
   ],
   "source": [
    "sum_range([1,2,3,5,6,8,9,10,14])"
   ]
  },
  {
   "cell_type": "code",
   "execution_count": 154,
   "metadata": {},
   "outputs": [],
   "source": [
    "#12.tree_sum\n",
    "def three_sum(arr):\n",
    "    re,res=[],[]\n",
    "    for i in range(len(arr)):\n",
    "        for j in range(i+1,len(arr)):\n",
    "            re.append((arr[i],arr[j]))\n",
    "    for sub in re:\n",
    "        tmp=-1*(sub[0]+sub[1])\n",
    "        if tmp in arr:\n",
    "            sub=sub+(tmp,)\n",
    "            if sorted(sub) not in res:\n",
    "                res.append(tuple(sorted(sub)))\n",
    "    return set(res)\n",
    "    \n",
    "            "
   ]
  },
  {
   "cell_type": "code",
   "execution_count": 155,
   "metadata": {},
   "outputs": [
    {
     "data": {
      "text/plain": [
       "{(-2, 0, 2), (-2, 1, 1), (-1, -1, 2), (-1, 0, 1)}"
      ]
     },
     "execution_count": 155,
     "metadata": {},
     "output_type": "execute_result"
    }
   ],
   "source": [
    "three_sum([-1,0,2,1,-2])"
   ]
  },
  {
   "cell_type": "code",
   "execution_count": 3,
   "metadata": {},
   "outputs": [],
   "source": [
    "#13.trimmean\n",
    "def trimmean(arr,per):\n",
    "    per=per/200\n",
    "    num=int(len(arr)*per)\n",
    "    arr.sort()\n",
    "    summ=0\n",
    "    for i in range(num,len(arr)-num):\n",
    "        summ+=arr[i]\n",
    "    return summ/(len(arr)-2*num)"
   ]
  },
  {
   "cell_type": "code",
   "execution_count": 6,
   "metadata": {},
   "outputs": [
    {
     "data": {
      "text/plain": [
       "6.090909090909091"
      ]
     },
     "execution_count": 6,
     "metadata": {},
     "output_type": "execute_result"
    }
   ],
   "source": [
    "trimmean([1,2,3,4,5,6,7,8,9,10,12],17)"
   ]
  },
  {
   "cell_type": "code",
   "execution_count": 14,
   "metadata": {},
   "outputs": [],
   "source": [
    "#14.most frequent values\n",
    "import collections\n",
    "def fre_most(arr):\n",
    "    count=collections.defaultdict(int)\n",
    "    for ele in arr:\n",
    "        if ele in count:\n",
    "            count[ele]+=1\n",
    "        else:\n",
    "            count[ele]=1\n",
    "    print(count)\n",
    "    re=[]\n",
    "    maxx=0\n",
    "    for key,value in count.items():\n",
    "        if value>maxx:\n",
    "            re=[]\n",
    "            re.append(key)\n",
    "            maxx=value\n",
    "        elif value==maxx:\n",
    "            re.append(key)\n",
    "        else:\n",
    "            continue\n",
    "    return re\n",
    "            \n",
    "        \n",
    "    "
   ]
  },
  {
   "cell_type": "code",
   "execution_count": 16,
   "metadata": {},
   "outputs": [
    {
     "name": "stdout",
     "output_type": "stream",
     "text": [
      "defaultdict(<class 'int'>, {1: 2, 2: 3, 3: 3, 5: 1})\n"
     ]
    },
    {
     "data": {
      "text/plain": [
       "[2, 3]"
      ]
     },
     "execution_count": 16,
     "metadata": {},
     "output_type": "execute_result"
    }
   ],
   "source": [
    "fre_most([1,2,3,2,2,1,3,5,3])"
   ]
  },
  {
   "cell_type": "code",
   "execution_count": 28,
   "metadata": {},
   "outputs": [],
   "source": [
    "#15.2_sum\n",
    "def two_sum(arr,target):\n",
    "    re=[]\n",
    "    for i in range(len(arr)-1):\n",
    "        for j in range(i+1,len(arr)):\n",
    "            if arr[j]==target-arr[i]:\n",
    "                re.append((i,j))\n",
    "            else:\n",
    "                continue\n",
    "    return re\n",
    "def two_sum_2(arr,target):\n",
    "    dic={}\n",
    "    re=[]\n",
    "    for i,ele in enumerate(arr):\n",
    "        if ele in dic:\n",
    "            re.append((dic[ele],i))\n",
    "        else:\n",
    "            dic[target-ele]=i\n",
    "    return re\n",
    "            "
   ]
  },
  {
   "cell_type": "code",
   "execution_count": 29,
   "metadata": {},
   "outputs": [
    {
     "data": {
      "text/plain": [
       "[(0, 1), (2, 5)]"
      ]
     },
     "execution_count": 29,
     "metadata": {},
     "output_type": "execute_result"
    }
   ],
   "source": [
    "two_sum_2([2, 7, 11, 15,-4,-2],9)"
   ]
  },
  {
   "cell_type": "code",
   "execution_count": 51,
   "metadata": {},
   "outputs": [],
   "source": [
    "#16.moves zeros to end\n",
    "def move_zeros(arr):\n",
    "    count=0\n",
    "    i=0\n",
    "    while i < len(arr)-count:\n",
    "        if arr[i] is 0:\n",
    "            del arr[i]\n",
    "            count+=1\n",
    "        i+=1\n",
    "    arr.extend([0]*count)\n",
    "    return arr"
   ]
  },
  {
   "cell_type": "code",
   "execution_count": 52,
   "metadata": {},
   "outputs": [
    {
     "data": {
      "text/plain": [
       "[False, 1, 1, 2, 1, 3, 'a', 0, 0]"
      ]
     },
     "execution_count": 52,
     "metadata": {},
     "output_type": "execute_result"
    }
   ],
   "source": [
    "move_zeros([False, 1, 0, 1, 2, 0, 1, 3, \"a\"])\n"
   ]
  },
  {
   "cell_type": "code",
   "execution_count": null,
   "metadata": {},
   "outputs": [],
   "source": [
    "#17.n_sum"
   ]
  }
 ],
 "metadata": {
  "kernelspec": {
   "display_name": "Python 3",
   "language": "python",
   "name": "python3"
  },
  "language_info": {
   "codemirror_mode": {
    "name": "ipython",
    "version": 3
   },
   "file_extension": ".py",
   "mimetype": "text/x-python",
   "name": "python",
   "nbconvert_exporter": "python",
   "pygments_lexer": "ipython3",
   "version": "3.6.4"
  }
 },
 "nbformat": 4,
 "nbformat_minor": 2
}
