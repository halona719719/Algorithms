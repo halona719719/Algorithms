{
 "cells": [
  {
   "cell_type": "code",
   "execution_count": 1,
   "metadata": {},
   "outputs": [],
   "source": [
    "# binary search increasing sorted arr\n",
    "def binary(arr,target):\n",
    "    mid=len(arr)//2\n",
    "    if arr[mid] > target:\n",
    "        return binary(arr[:mid],target)\n",
    "    elif arr[mid] < target:\n",
    "        return binary(arr[mid+1:],target)\n",
    "    else:\n",
    "        return arr[mid]\n",
    "    "
   ]
  },
  {
   "cell_type": "code",
   "execution_count": 3,
   "metadata": {},
   "outputs": [
    {
     "data": {
      "text/plain": [
       "8"
      ]
     },
     "execution_count": 3,
     "metadata": {},
     "output_type": "execute_result"
    }
   ],
   "source": [
    "binary([1,2,3,4,5,6,7,8,9],8)"
   ]
  },
  {
   "cell_type": "code",
   "execution_count": 32,
   "metadata": {},
   "outputs": [],
   "source": [
    "#first occurance incresing sorted arr\n",
    "def first_occ(arr,target):\n",
    "    mid=len(arr)//2\n",
    "    if arr[mid]<target:\n",
    "        return first_occ(arr[mid+1:],target)\n",
    "    elif arr[mid]>target:\n",
    "        return first_occ(arr[:mid],target)\n",
    "    else:\n",
    "        if mid==0:\n",
    "            return arr[mid],arr\n",
    "        elif mid>0 and arr[mid-1]==target:\n",
    "            return first_occ(arr[:mid],target)\n",
    "        else:\n",
    "            return arr[mid],arr   "
   ]
  },
  {
   "cell_type": "code",
   "execution_count": 34,
   "metadata": {},
   "outputs": [
    {
     "data": {
      "text/plain": [
       "(2, [1, 1, 2, 2])"
      ]
     },
     "execution_count": 34,
     "metadata": {},
     "output_type": "execute_result"
    }
   ],
   "source": [
    "first_occ([1,1,2,2,2,2,2,3],2)"
   ]
  },
  {
   "cell_type": "code",
   "execution_count": 44,
   "metadata": {},
   "outputs": [],
   "source": [
    "#last occurance\n",
    "def last_occ(arr,target):\n",
    "    lo,hi=0,len(arr)-1\n",
    "    while lo<=hi:\n",
    "        mid=(lo+hi)//2\n",
    "        if arr[mid]>target:\n",
    "            hi=mid-1\n",
    "        elif ((arr[mid]==target and mid==len(arr)-1)\n",
    "             or\n",
    "             (arr[mid]==target and arr[mid+1]>target)):\n",
    "            return mid\n",
    "        else:\n",
    "            lo=mid+1"
   ]
  },
  {
   "cell_type": "code",
   "execution_count": 45,
   "metadata": {},
   "outputs": [
    {
     "data": {
      "text/plain": [
       "6"
      ]
     },
     "execution_count": 45,
     "metadata": {},
     "output_type": "execute_result"
    }
   ],
   "source": [
    "last_occ([1,1,2,2,2,2,2,3],2)"
   ]
  },
  {
   "cell_type": "code",
   "execution_count": 46,
   "metadata": {},
   "outputs": [],
   "source": [
    "#insert\n",
    "def insert(arr,target):\n",
    "    lo,hi=0,len(arr)-1\n",
    "    while lo<=hi:\n",
    "        mid=(lo+hi)//2\n",
    "        if arr[mid]==target:\n",
    "            return mid\n",
    "        elif arr[mid]>target:\n",
    "            hi=mid-1\n",
    "        elif mid==len(arr)-1:\n",
    "            return len(arr)\n",
    "        else:\n",
    "            lo=mid+1"
   ]
  },
  {
   "cell_type": "code",
   "execution_count": 48,
   "metadata": {},
   "outputs": [
    {
     "data": {
      "text/plain": [
       "3"
      ]
     },
     "execution_count": 48,
     "metadata": {},
     "output_type": "execute_result"
    }
   ],
   "source": [
    "insert([1,2,3,4,5,7],4)"
   ]
  },
  {
   "cell_type": "code",
   "execution_count": 59,
   "metadata": {},
   "outputs": [],
   "source": [
    "#search range\n",
    "def range_s(arr,target):\n",
    "    lo,hi=0,len(arr)-1\n",
    "    p=None\n",
    "    while lo<=hi:\n",
    "        mid=(lo+hi)//2\n",
    "        if arr[mid]>target:\n",
    "            hi=mid-1\n",
    "        elif arr[mid]<target:\n",
    "            lo=mid+1\n",
    "        else:\n",
    "            p=mid\n",
    "            break\n",
    "    if p is None:\n",
    "        return [-1,-1]\n",
    "    i,j=p,p\n",
    "    start,end=p,p\n",
    "    while i>=0:\n",
    "        if arr[i]==target:\n",
    "            start=i\n",
    "        i-=1\n",
    "    while j <len(arr):\n",
    "        if arr[j]==target:\n",
    "            end=j\n",
    "        j+=1\n",
    "    return [start,end]\n",
    "        \n",
    "def range_ss(arr,target):  \n",
    "    lo,hi=0,len(arr)-1\n",
    "    p=None\n",
    "    while lo<=hi:\n",
    "        mid=(lo+hi)//2\n",
    "        if arr[mid]<target:\n",
    "            lo=mid+1\n",
    "        elif ((arr[mid]==target and mid==0)\n",
    "             or\n",
    "             (arr[mid]==target and arr[mid-1]<target)):\n",
    "            p=mid\n",
    "            break\n",
    "        else:\n",
    "            hi=mid-1\n",
    "    if p is None:\n",
    "        return [-1,-1]\n",
    "    i=p\n",
    "    end=p\n",
    "    while i<len(arr):\n",
    "        if arr[i]==target:\n",
    "            end=i\n",
    "        i+=1\n",
    "    return [p,end]\n",
    "        "
   ]
  },
  {
   "cell_type": "code",
   "execution_count": 60,
   "metadata": {},
   "outputs": [
    {
     "data": {
      "text/plain": [
       "[10, 10]"
      ]
     },
     "execution_count": 60,
     "metadata": {},
     "output_type": "execute_result"
    }
   ],
   "source": [
    "range_ss([1,2,3,3,3,3,3,4,5,6,7],7)"
   ]
  },
  {
   "cell_type": "code",
   "execution_count": 61,
   "metadata": {},
   "outputs": [],
   "source": [
    "def find_mim(arr):\n",
    "    lo,hi=0,len(arr)-1\n",
    "    if arr[hi]<arr[lo]:\n",
    "        while lo<=hi:\n",
    "            mid=(lo+hi)//2\n",
    "            if arr[mid]<arr[mid-1] and arr[mid]<arr[mid+1]:\n",
    "                return arr[mid]\n",
    "            if arr[mid]>arr[lo]:\n",
    "                lo=mid+1\n",
    "            else:\n",
    "                hi=mid-1           \n",
    "    else:\n",
    "        return arr[0]"
   ]
  },
  {
   "cell_type": "code",
   "execution_count": 63,
   "metadata": {},
   "outputs": [
    {
     "data": {
      "text/plain": [
       "0"
      ]
     },
     "execution_count": 63,
     "metadata": {},
     "output_type": "execute_result"
    }
   ],
   "source": [
    "find_mim([3,4,5,6,7,0,1,2])"
   ]
  },
  {
   "cell_type": "code",
   "execution_count": 83,
   "metadata": {},
   "outputs": [],
   "source": [
    "def find_rotated(arr,target):\n",
    "    low,high=0,len(arr)-1\n",
    "    while low<=high:\n",
    "        mid=(low+high)//2\n",
    "        if arr[mid]==target:\n",
    "            return mid\n",
    "        if arr[low] <= arr[mid]:\n",
    "            if arr[low] <= target <= arr[mid]:\n",
    "                high = mid - 1\n",
    "            else:\n",
    "                low = mid + 1\n",
    "        else:\n",
    "            if arr[mid] <= target <= arr[high]:\n",
    "                low = mid + 1\n",
    "            else:\n",
    "                high = mid - 1\n",
    "    return -1"
   ]
  },
  {
   "cell_type": "code",
   "execution_count": 84,
   "metadata": {},
   "outputs": [
    {
     "data": {
      "text/plain": [
       "4"
      ]
     },
     "execution_count": 84,
     "metadata": {},
     "output_type": "execute_result"
    }
   ],
   "source": [
    "find_rotated([5,6,7,0,1,2,3],1)"
   ]
  },
  {
   "cell_type": "code",
   "execution_count": 86,
   "metadata": {},
   "outputs": [],
   "source": [
    "#next greatest\n",
    "def next_greatest(arr,target):\n",
    "    lo,hi=0,len(arr)-1\n",
    "    while lo<=hi:\n",
    "        mid=(lo+hi)//2\n",
    "        if arr[mid]>target and (mid==0 or arr[mid-1]<target):\n",
    "            return arr[mid]\n",
    "        elif arr[mid]<target:\n",
    "            lo=mid+1\n",
    "        else:\n",
    "            hi=mid-1\n",
    "    return -1\n",
    "    "
   ]
  },
  {
   "cell_type": "code",
   "execution_count": 88,
   "metadata": {},
   "outputs": [
    {
     "data": {
      "text/plain": [
       "'b'"
      ]
     },
     "execution_count": 88,
     "metadata": {},
     "output_type": "execute_result"
    }
   ],
   "source": [
    "next_greatest(['b','c','f','g'],'a')"
   ]
  }
 ],
 "metadata": {
  "kernelspec": {
   "display_name": "Python 3",
   "language": "python",
   "name": "python3"
  },
  "language_info": {
   "codemirror_mode": {
    "name": "ipython",
    "version": 3
   },
   "file_extension": ".py",
   "mimetype": "text/x-python",
   "name": "python",
   "nbconvert_exporter": "python",
   "pygments_lexer": "ipython3",
   "version": "3.6.4"
  }
 },
 "nbformat": 4,
 "nbformat_minor": 2
}
